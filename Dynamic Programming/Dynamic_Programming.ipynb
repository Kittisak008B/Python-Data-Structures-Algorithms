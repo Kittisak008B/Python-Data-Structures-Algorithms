{
 "cells": [
  {
   "cell_type": "code",
   "execution_count": 1,
   "id": "9d485548-6897-46cf-9e0a-0e26069ee9aa",
   "metadata": {},
   "outputs": [],
   "source": [
    "counter = 0\n",
    "\n",
    "def fib(n) :\n",
    "    global counter\n",
    "    counter += 1\n",
    "    if n==0 or n==1 :\n",
    "        return n\n",
    "    return fib(n-1) + fib(n-2)"
   ]
  },
  {
   "cell_type": "code",
   "execution_count": 2,
   "id": "8498c08c-8413-41d0-9a99-25e97e37ef7a",
   "metadata": {},
   "outputs": [
    {
     "name": "stdout",
     "output_type": "stream",
     "text": [
      "6765\n",
      "21891\n"
     ]
    }
   ],
   "source": [
    "print(fib(20))\n",
    "print(counter)"
   ]
  },
  {
   "cell_type": "code",
   "execution_count": 3,
   "id": "69d7320d-0ac7-4235-a391-8b1b2de1f912",
   "metadata": {},
   "outputs": [],
   "source": [
    "#Memoization\n",
    "\n",
    "memo =[None] * 100\n",
    "counter1 = 0\n",
    "def fib1(n):\n",
    "    global counter1\n",
    "    counter1 +=1\n",
    "    if memo[n] is not None:\n",
    "        return memo[n]\n",
    "    if  n==0 or n==1 :\n",
    "        return n\n",
    "    memo[n] = fib1(n-1) + fib1(n-2)\n",
    "    return memo[n]"
   ]
  },
  {
   "cell_type": "code",
   "execution_count": 4,
   "id": "2b1574a2-2edf-4bb8-b2eb-0d3345ac147e",
   "metadata": {},
   "outputs": [
    {
     "name": "stdout",
     "output_type": "stream",
     "text": [
      "6765\n",
      "39\n"
     ]
    }
   ],
   "source": [
    "print(fib1(20))\n",
    "print(counter1)"
   ]
  },
  {
   "cell_type": "code",
   "execution_count": 5,
   "id": "83d90472-86e7-48d9-ad43-3dc53856280b",
   "metadata": {},
   "outputs": [],
   "source": [
    "# Bottom up\n",
    "\n",
    "counter2 = 0\n",
    "def fib2(n) :\n",
    "    fib_last = [0,1]\n",
    "    global counter2\n",
    "    for i in range(2, n+1):\n",
    "        counter2 += 1\n",
    "        next_fib = fib_last[i-1] + fib_last[i-2]\n",
    "        fib_last.append(next_fib)\n",
    "    return fib_last[n]"
   ]
  },
  {
   "cell_type": "code",
   "execution_count": 6,
   "id": "52323b3f-4273-4f54-80d8-375d1ff1a5d4",
   "metadata": {},
   "outputs": [
    {
     "name": "stdout",
     "output_type": "stream",
     "text": [
      "6765\n",
      "19\n"
     ]
    }
   ],
   "source": [
    "print(fib2(20))\n",
    "print(counter2)"
   ]
  }
 ],
 "metadata": {
  "kernelspec": {
   "display_name": "Python 3 (ipykernel)",
   "language": "python",
   "name": "python3"
  },
  "language_info": {
   "codemirror_mode": {
    "name": "ipython",
    "version": 3
   },
   "file_extension": ".py",
   "mimetype": "text/x-python",
   "name": "python",
   "nbconvert_exporter": "python",
   "pygments_lexer": "ipython3",
   "version": "3.11.7"
  }
 },
 "nbformat": 4,
 "nbformat_minor": 5
}
