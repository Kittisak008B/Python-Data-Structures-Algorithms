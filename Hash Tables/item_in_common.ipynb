{
 "cells": [
  {
   "cell_type": "code",
   "execution_count": 1,
   "id": "51b46081-8227-4a88-ac3c-165e49b0d3fe",
   "metadata": {},
   "outputs": [],
   "source": [
    "#  [1,4,8] , [3,9,8]\n",
    "#  --> 8"
   ]
  },
  {
   "cell_type": "code",
   "execution_count": 2,
   "id": "e76bfde9-a927-4a52-ba16-9e54e1485315",
   "metadata": {},
   "outputs": [],
   "source": [
    "# nested for loops    O(n**2) -->bad\n",
    "\n",
    "def item_in_common(list1, list2) :\n",
    "    for i in list1 :\n",
    "        for j in list2 :\n",
    "            if i == j :\n",
    "                return i\n",
    "    return False"
   ]
  },
  {
   "cell_type": "code",
   "execution_count": 3,
   "id": "81c187db-87f9-4e4e-bda5-a14d3f1adaa4",
   "metadata": {},
   "outputs": [
    {
     "data": {
      "text/plain": [
       "8"
      ]
     },
     "execution_count": 3,
     "metadata": {},
     "output_type": "execute_result"
    }
   ],
   "source": [
    "list1 = [1,4,8]\n",
    "list2 = [3,9,8]\n",
    "item_in_common(list1, list2)"
   ]
  },
  {
   "cell_type": "code",
   "execution_count": 4,
   "id": "69c832c7-4617-4679-8ca6-40e2e5fadfac",
   "metadata": {},
   "outputs": [],
   "source": [
    "# O(2n)  --> O(n)\n",
    "\n",
    "def item_in_common2(list1, list2) :\n",
    "    my_dict = {}\n",
    "    for i in list1 :\n",
    "        my_dict[i] = True\n",
    "    for j in list2 :\n",
    "        if j in my_dict :\n",
    "            return j\n",
    "    return False"
   ]
  },
  {
   "cell_type": "code",
   "execution_count": 5,
   "id": "c4bed1de-f983-458e-95f3-4ba6c7cd7875",
   "metadata": {},
   "outputs": [
    {
     "data": {
      "text/plain": [
       "8"
      ]
     },
     "execution_count": 5,
     "metadata": {},
     "output_type": "execute_result"
    }
   ],
   "source": [
    "list1 = [1,4,8]\n",
    "list2 = [3,9,8]\n",
    "item_in_common2(list1, list2)"
   ]
  }
 ],
 "metadata": {
  "kernelspec": {
   "display_name": "Python 3 (ipykernel)",
   "language": "python",
   "name": "python3"
  },
  "language_info": {
   "codemirror_mode": {
    "name": "ipython",
    "version": 3
   },
   "file_extension": ".py",
   "mimetype": "text/x-python",
   "name": "python",
   "nbconvert_exporter": "python",
   "pygments_lexer": "ipython3",
   "version": "3.11.7"
  }
 },
 "nbformat": 4,
 "nbformat_minor": 5
}
