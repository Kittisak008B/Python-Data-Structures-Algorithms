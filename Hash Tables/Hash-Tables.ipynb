{
 "cells": [
  {
   "cell_type": "code",
   "execution_count": 1,
   "id": "6ef08754-1e8e-4cbe-872c-de7a3a9eb2f2",
   "metadata": {},
   "outputs": [],
   "source": [
    "class HashTable :\n",
    "    def __init__(self, size = 7):\n",
    "        self.data_map = [None] * size\n",
    "\n",
    "    def __hash(self, key) :\n",
    "        my_hash = 0\n",
    "        for letter in key :\n",
    "            my_hash = (my_hash + ord(letter)*23) % len(self.data_map)\n",
    "        return my_hash\n",
    "\n",
    "    def print_table(self) :\n",
    "        for i, val in enumerate(self.data_map) :\n",
    "            print(i, \": \",val)\n",
    "\n",
    "    def set_item(self, key, value) :\n",
    "        index = self.__hash(key)\n",
    "        if self.data_map[index] == None :\n",
    "            self.data_map[index] = []\n",
    "        self.data_map[index].append([key, value])\n",
    "\n",
    "    def get_item(self, key) :\n",
    "        index = self.__hash(key)\n",
    "        if self.data_map[index] is not None :\n",
    "            for i in range(len(self.data_map[index])) :\n",
    "                if self.data_map[index][i][0] == key :\n",
    "                    return self.data_map[index][i][1]\n",
    "        return None\n",
    "\n",
    "    def keys(self) :\n",
    "        all_keys = []\n",
    "        for i in range(len(self.data_map)) :\n",
    "            if self.data_map[i] is not None :\n",
    "                for j in range(len(self.data_map[i])) :\n",
    "                    all_keys.append(self.data_map[i][j][0])\n",
    "        return all_keys"
   ]
  },
  {
   "cell_type": "code",
   "execution_count": 2,
   "id": "7917df48-6706-4e37-9a0a-7428d9225637",
   "metadata": {},
   "outputs": [
    {
     "name": "stdout",
     "output_type": "stream",
     "text": [
      "65\n",
      "A\n"
     ]
    }
   ],
   "source": [
    "#ord() is a built-in function that returns the Unicode code point for a given character.\n",
    "#This function is particularly useful when dealing with string manipulation and character encoding/decoding in Python.\n",
    "print(ord('A'))\n",
    "print(chr(65)) "
   ]
  },
  {
   "cell_type": "code",
   "execution_count": 3,
   "id": "295b1e7e-8c0f-4d9e-b04d-2ea7cf3712bd",
   "metadata": {},
   "outputs": [],
   "source": [
    "a = HashTable()\n"
   ]
  },
  {
   "cell_type": "code",
   "execution_count": 4,
   "id": "7e2901b2-9415-4918-bd4f-707fab8f18a5",
   "metadata": {},
   "outputs": [
    {
     "name": "stdout",
     "output_type": "stream",
     "text": [
      "0 :  None\n",
      "1 :  None\n",
      "2 :  None\n",
      "3 :  None\n",
      "4 :  None\n",
      "5 :  None\n",
      "6 :  None\n"
     ]
    }
   ],
   "source": [
    "a.print_table()"
   ]
  },
  {
   "cell_type": "code",
   "execution_count": 5,
   "id": "87c5b5f2-fcb0-443b-a552-3fb87a52db06",
   "metadata": {},
   "outputs": [],
   "source": [
    "a.set_item('bolts',1400)\n",
    "a.set_item('washers',50)\n",
    "a.set_item('lumber',70)\n",
    "a.set_item('chicken',11)\n",
    "a.set_item('pig',111)\n",
    "a.set_item('dog',77)\n",
    "a.set_item('asdsddagsdqrwrqwrfagasa',88)"
   ]
  },
  {
   "cell_type": "code",
   "execution_count": 6,
   "id": "a69149ed-7cb9-403a-b68f-564610b93634",
   "metadata": {},
   "outputs": [
    {
     "name": "stdout",
     "output_type": "stream",
     "text": [
      "0 :  None\n",
      "1 :  [['chicken', 11]]\n",
      "2 :  None\n",
      "3 :  [['pig', 111]]\n",
      "4 :  [['bolts', 1400], ['washers', 50], ['asdsddagsdqrwrqwrfagasa', 88]]\n",
      "5 :  [['dog', 77]]\n",
      "6 :  [['lumber', 70]]\n"
     ]
    }
   ],
   "source": [
    "a.print_table()"
   ]
  },
  {
   "cell_type": "code",
   "execution_count": 7,
   "id": "d9f6deac-d713-4350-a197-79be810ca552",
   "metadata": {},
   "outputs": [
    {
     "data": {
      "text/plain": [
       "1400"
      ]
     },
     "execution_count": 7,
     "metadata": {},
     "output_type": "execute_result"
    }
   ],
   "source": [
    "a.get_item('bolts')"
   ]
  },
  {
   "cell_type": "code",
   "execution_count": 8,
   "id": "45a2f643-3d66-4cb3-a8e1-fd2cd02cc13a",
   "metadata": {},
   "outputs": [
    {
     "data": {
      "text/plain": [
       "70"
      ]
     },
     "execution_count": 8,
     "metadata": {},
     "output_type": "execute_result"
    }
   ],
   "source": [
    "a.get_item('lumber')"
   ]
  },
  {
   "cell_type": "code",
   "execution_count": 9,
   "id": "9507c0bf-165c-4555-bff3-e7e3a7deedb3",
   "metadata": {},
   "outputs": [
    {
     "name": "stdout",
     "output_type": "stream",
     "text": [
      "50\n"
     ]
    }
   ],
   "source": [
    "print(a.get_item('washers'))"
   ]
  },
  {
   "cell_type": "code",
   "execution_count": 10,
   "id": "021b49a3-6c99-476e-800f-3488eba7212e",
   "metadata": {},
   "outputs": [
    {
     "data": {
      "text/plain": [
       "88"
      ]
     },
     "execution_count": 10,
     "metadata": {},
     "output_type": "execute_result"
    }
   ],
   "source": [
    "a.get_item('asdsddagsdqrwrqwrfagasa')"
   ]
  },
  {
   "cell_type": "code",
   "execution_count": 11,
   "id": "3a18788f-97d0-4892-9a28-b6e0ecded0bc",
   "metadata": {},
   "outputs": [
    {
     "name": "stdout",
     "output_type": "stream",
     "text": [
      "None\n"
     ]
    }
   ],
   "source": [
    "print(a.get_item('sam'))"
   ]
  },
  {
   "cell_type": "code",
   "execution_count": 12,
   "id": "a51a4a86-4ba0-42ed-9d8c-c453520077c4",
   "metadata": {},
   "outputs": [
    {
     "data": {
      "text/plain": [
       "['chicken',\n",
       " 'pig',\n",
       " 'bolts',\n",
       " 'washers',\n",
       " 'asdsddagsdqrwrqwrfagasa',\n",
       " 'dog',\n",
       " 'lumber']"
      ]
     },
     "execution_count": 12,
     "metadata": {},
     "output_type": "execute_result"
    }
   ],
   "source": [
    "a.keys()"
   ]
  },
  {
   "cell_type": "code",
   "execution_count": null,
   "id": "eba648e7-3808-43c6-b2cf-29a743812259",
   "metadata": {},
   "outputs": [],
   "source": []
  }
 ],
 "metadata": {
  "kernelspec": {
   "display_name": "Python 3 (ipykernel)",
   "language": "python",
   "name": "python3"
  },
  "language_info": {
   "codemirror_mode": {
    "name": "ipython",
    "version": 3
   },
   "file_extension": ".py",
   "mimetype": "text/x-python",
   "name": "python",
   "nbconvert_exporter": "python",
   "pygments_lexer": "ipython3",
   "version": "3.11.7"
  }
 },
 "nbformat": 4,
 "nbformat_minor": 5
}
