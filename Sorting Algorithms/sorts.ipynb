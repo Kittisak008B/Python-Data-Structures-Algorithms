{
 "cells": [
  {
   "cell_type": "code",
   "execution_count": 1,
   "id": "1116030a-c301-4ff4-93c5-2c8b4aed4cf0",
   "metadata": {},
   "outputs": [],
   "source": [
    "# bubble sort\n",
    "\n",
    "def bubble_sort(my_list) :\n",
    "    for i in range(len(my_list) - 1, 0, -1) :\n",
    "        for j in range(i) :\n",
    "            if my_list[j] > my_list[j+1] :\n",
    "                temp = my_list[j]\n",
    "                my_list[j] = my_list[j+1]\n",
    "                my_list[j+1] = temp\n",
    "    return my_list"
   ]
  },
  {
   "cell_type": "code",
   "execution_count": 2,
   "id": "6a6bdfb5-88c2-460d-b8d8-37694c71f4ec",
   "metadata": {},
   "outputs": [
    {
     "data": {
      "text/plain": [
       "[1, 2, 2, 4, 5, 6, 7, 8, 9, 10, 34]"
      ]
     },
     "execution_count": 2,
     "metadata": {},
     "output_type": "execute_result"
    }
   ],
   "source": [
    "bubble_sort([5,7,2,10,8,1,34,6,9,4,2])"
   ]
  },
  {
   "cell_type": "code",
   "execution_count": 3,
   "id": "13d6a7da-9fa8-4684-a845-304764ec51c3",
   "metadata": {},
   "outputs": [],
   "source": [
    "# selection sort\n",
    "def selection_sort(my_list) :\n",
    "    for i in range(len(my_list) - 1 ) :\n",
    "        min_index = i\n",
    "        for j in range(i+1 , len(my_list)):\n",
    "            if my_list[j] < my_list[min_index] :\n",
    "                min_index = j\n",
    "        if i != min_index :\n",
    "            temp = my_list[i]\n",
    "            my_list[i] = my_list[min_index]\n",
    "            my_list[min_index] = temp\n",
    "    return my_list"
   ]
  },
  {
   "cell_type": "code",
   "execution_count": 4,
   "id": "675f8fe1-f8b0-40b6-96eb-dacc7f1ac834",
   "metadata": {},
   "outputs": [
    {
     "data": {
      "text/plain": [
       "[1, 2, 2, 4, 5, 6, 7, 8, 9, 10, 34]"
      ]
     },
     "execution_count": 4,
     "metadata": {},
     "output_type": "execute_result"
    }
   ],
   "source": [
    "selection_sort([5,7,2,10,8,1,34,6,9,4,2])"
   ]
  },
  {
   "cell_type": "code",
   "execution_count": 5,
   "id": "76f271e7-1172-412d-869e-f66356971a61",
   "metadata": {},
   "outputs": [],
   "source": [
    "# insertion sort\n",
    "def insertion_sort(my_list) :\n",
    "    for i in range(1 , len(my_list)) :\n",
    "        temp = my_list[i]\n",
    "        j = i-1\n",
    "        while temp < my_list[j] and j > -1 :\n",
    "            my_list[j+1] = my_list[j]\n",
    "            my_list[j] = temp\n",
    "            j -= 1\n",
    "    return my_list"
   ]
  },
  {
   "cell_type": "code",
   "execution_count": 6,
   "id": "fcfbf3fa-c19b-4b44-b608-cb15af101006",
   "metadata": {},
   "outputs": [
    {
     "data": {
      "text/plain": [
       "[1, 2, 2, 4, 5, 6, 7, 8, 9, 10, 34]"
      ]
     },
     "execution_count": 6,
     "metadata": {},
     "output_type": "execute_result"
    }
   ],
   "source": [
    "insertion_sort([5,7,2,10,8,1,34,6,9,4,2])"
   ]
  },
  {
   "cell_type": "code",
   "execution_count": 7,
   "id": "16a9acd2-2299-4bef-8bd4-fd14cc58789e",
   "metadata": {},
   "outputs": [],
   "source": [
    "# merge sort\n",
    "def merge(list1, list2) :\n",
    "    combined = []\n",
    "    i = 0\n",
    "    j = 0\n",
    "    while i < len(list1) and j < len(list2) :\n",
    "        if list1[i] < list2[j] :\n",
    "            combined.append(list1[i])\n",
    "            i += 1\n",
    "        else :\n",
    "            combined.append(list2[j])\n",
    "            j += 1\n",
    "    while i < len(list1) :\n",
    "        combined.append(list1[i])\n",
    "        i += 1\n",
    "    while j < len(list2) :\n",
    "        combined.append(list2[j])\n",
    "        j += 1\n",
    "    return combined\n",
    "\n",
    "def merge_sort(my_list) :\n",
    "    if len(my_list) == 1 :\n",
    "        return my_list\n",
    "    mid_index = int(len(my_list)/2)\n",
    "    left = merge_sort(my_list[ :mid_index])\n",
    "    right = merge_sort(my_list[mid_index: ])\n",
    "    return merge(left, right)\n",
    "    "
   ]
  },
  {
   "cell_type": "code",
   "execution_count": 8,
   "id": "b6f23956-84a8-48b8-9aff-725c7fb4f2f1",
   "metadata": {},
   "outputs": [
    {
     "data": {
      "text/plain": [
       "[1, 2, 3, 4, 5, 6, 7, 8]"
      ]
     },
     "execution_count": 8,
     "metadata": {},
     "output_type": "execute_result"
    }
   ],
   "source": [
    "merge([1,2,7,8],[3,4,5,6])"
   ]
  },
  {
   "cell_type": "code",
   "execution_count": 9,
   "id": "5bf1f02b-3759-4313-ac3c-4f1d939f03da",
   "metadata": {},
   "outputs": [
    {
     "data": {
      "text/plain": [
       "[1, 2, 3, 4, 7, 9]"
      ]
     },
     "execution_count": 9,
     "metadata": {},
     "output_type": "execute_result"
    }
   ],
   "source": [
    "original_list = [3,1,4,2,7,9]\n",
    "merge_sort(original_list)"
   ]
  },
  {
   "cell_type": "code",
   "execution_count": 10,
   "id": "b37610cb-0f36-45d3-959e-372dfe9e3214",
   "metadata": {},
   "outputs": [],
   "source": [
    "# quick sort\n",
    "\n",
    "def swap(my_list, index1, index2) :\n",
    "    temp = my_list[index1]\n",
    "    my_list[index1] = my_list[index2]\n",
    "    my_list[index2] = temp\n",
    "\n",
    "def pivot(my_list, pivot_index, end_index) :\n",
    "    swap_index = pivot_index\n",
    "    for i in range(pivot_index +1, end_index +1) :\n",
    "        if my_list[i] < my_list[pivot_index] :\n",
    "            swap_index += 1\n",
    "            swap(my_list, swap_index, i)\n",
    "    swap(my_list, pivot_index, swap_index)\n",
    "    return swap_index\n",
    "\n",
    "def quick_sort_helper(my_list, left, right) :\n",
    "    if left < right :\n",
    "        pivot_index = pivot(my_list, left, right)\n",
    "        quick_sort_helper(my_list, left, pivot_index -1)\n",
    "        quick_sort_helper(my_list, pivot_index +1, right)\n",
    "    return my_list\n",
    "\n",
    "def quick_sort(my_list) :\n",
    "    return quick_sort_helper(my_list, 0, len(my_list) -1)\n",
    "    "
   ]
  },
  {
   "cell_type": "code",
   "execution_count": 11,
   "id": "9430bdbd-b563-4b4e-9375-6ea0768bfdd1",
   "metadata": {},
   "outputs": [
    {
     "data": {
      "text/plain": [
       "4"
      ]
     },
     "execution_count": 11,
     "metadata": {},
     "output_type": "execute_result"
    }
   ],
   "source": [
    "my_list = [5,6,1,7,4,3,2]\n",
    "pivot(my_list, 0, 6)"
   ]
  },
  {
   "cell_type": "code",
   "execution_count": 12,
   "id": "e2786755-7241-4328-84a6-4c01207dc30f",
   "metadata": {},
   "outputs": [
    {
     "data": {
      "text/plain": [
       "[2, 1, 4, 3, 5, 7, 6]"
      ]
     },
     "execution_count": 12,
     "metadata": {},
     "output_type": "execute_result"
    }
   ],
   "source": [
    "my_list"
   ]
  },
  {
   "cell_type": "code",
   "execution_count": 13,
   "id": "f297becb-fa09-4549-934f-cf2db5a2d55d",
   "metadata": {},
   "outputs": [
    {
     "data": {
      "text/plain": [
       "[1, 2, 3, 4, 5, 6, 7]"
      ]
     },
     "execution_count": 13,
     "metadata": {},
     "output_type": "execute_result"
    }
   ],
   "source": [
    "quick_sort([5,6,1,7,4,3,2])"
   ]
  },
  {
   "cell_type": "code",
   "execution_count": 14,
   "id": "a7e3c1b4-7df6-4b6f-9eb8-e46a56992eb1",
   "metadata": {},
   "outputs": [
    {
     "data": {
      "text/plain": [
       "[1, 2, 3, 4, 5, 6, 7]"
      ]
     },
     "execution_count": 14,
     "metadata": {},
     "output_type": "execute_result"
    }
   ],
   "source": [
    "quick_sort([4,6,1,7,3,2,5])"
   ]
  }
 ],
 "metadata": {
  "kernelspec": {
   "display_name": "Python 3 (ipykernel)",
   "language": "python",
   "name": "python3"
  },
  "language_info": {
   "codemirror_mode": {
    "name": "ipython",
    "version": 3
   },
   "file_extension": ".py",
   "mimetype": "text/x-python",
   "name": "python",
   "nbconvert_exporter": "python",
   "pygments_lexer": "ipython3",
   "version": "3.11.7"
  }
 },
 "nbformat": 4,
 "nbformat_minor": 5
}
