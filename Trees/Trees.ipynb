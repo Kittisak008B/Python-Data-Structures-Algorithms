{
 "cells": [
  {
   "cell_type": "code",
   "execution_count": 1,
   "id": "f216da7d-00f3-4e5d-b223-3c726bba8558",
   "metadata": {},
   "outputs": [
    {
     "data": {
      "text/plain": [
       "{'value': 4,\n",
       " 'left': {'value': 5, 'left': None, 'right': None},\n",
       " 'right': {'value': 8, 'left': None, 'right': None}}"
      ]
     },
     "execution_count": 1,
     "metadata": {},
     "output_type": "execute_result"
    }
   ],
   "source": [
    "# binary trees\n",
    "{\n",
    "    'value':4,\n",
    "    'left' :{\n",
    "                'value': 5,\n",
    "                'left' : None,\n",
    "                'right': None\n",
    "            },\n",
    "    'right':{\n",
    "                'value': 8,\n",
    "                'left' :None,\n",
    "                'right':None\n",
    "            }\n",
    "}"
   ]
  },
  {
   "cell_type": "code",
   "execution_count": 2,
   "id": "155b8331-7296-4e47-85dd-0cb82a44185c",
   "metadata": {},
   "outputs": [],
   "source": [
    "# binary search trees O(log n)\n",
    "class Node :\n",
    "    def __init__(self,value) :\n",
    "        self.value = value\n",
    "        self.left = None\n",
    "        self.right = None\n",
    "        \n",
    "class BinarySearchTree :\n",
    "    def __init__(self) :\n",
    "        self.root = None\n",
    "    def insert(self, value):\n",
    "        new_node = Node(value)\n",
    "        if self.root == None :\n",
    "            self.root = new_node\n",
    "            return True\n",
    "        temp = self.root\n",
    "        while (True) :\n",
    "            if new_node.value == temp.value :\n",
    "                return False\n",
    "            if new_node.value < temp.value :\n",
    "                if temp.left is None :\n",
    "                    temp.left = new_node\n",
    "                    return True\n",
    "                temp = temp.left\n",
    "            else :\n",
    "                if temp.right is None :\n",
    "                    temp.right = new_node\n",
    "                    return True\n",
    "                temp = temp.right\n",
    "    def contains(self, value) :\n",
    "        temp = self.root \n",
    "        while temp is not None :\n",
    "            if value < temp.value :\n",
    "                temp = temp.left\n",
    "            elif value > temp.value :\n",
    "                temp = temp.right\n",
    "            else :\n",
    "                return True\n",
    "        return False"
   ]
  },
  {
   "cell_type": "code",
   "execution_count": 3,
   "id": "8582f690-ccf9-4a45-b476-b3f224055720",
   "metadata": {},
   "outputs": [
    {
     "name": "stdout",
     "output_type": "stream",
     "text": [
      "None\n"
     ]
    }
   ],
   "source": [
    "a = BinarySearchTree()\n",
    "print(a.root)"
   ]
  },
  {
   "cell_type": "code",
   "execution_count": 4,
   "id": "25321901-c7be-4ef6-8343-b32a652b0f30",
   "metadata": {},
   "outputs": [
    {
     "data": {
      "text/plain": [
       "True"
      ]
     },
     "execution_count": 4,
     "metadata": {},
     "output_type": "execute_result"
    }
   ],
   "source": [
    "a.insert(2)"
   ]
  },
  {
   "cell_type": "code",
   "execution_count": 5,
   "id": "ce8f3bd2-d57c-4077-99d2-126488401ed0",
   "metadata": {},
   "outputs": [
    {
     "data": {
      "text/plain": [
       "True"
      ]
     },
     "execution_count": 5,
     "metadata": {},
     "output_type": "execute_result"
    }
   ],
   "source": [
    "a.insert(1)\n",
    "a.insert(3)"
   ]
  },
  {
   "cell_type": "code",
   "execution_count": 6,
   "id": "ca9e4247-c951-4629-b473-913a5ad6feb7",
   "metadata": {},
   "outputs": [
    {
     "data": {
      "text/plain": [
       "2"
      ]
     },
     "execution_count": 6,
     "metadata": {},
     "output_type": "execute_result"
    }
   ],
   "source": [
    "a.root.value"
   ]
  },
  {
   "cell_type": "code",
   "execution_count": 7,
   "id": "e8712688-f104-4792-862a-0ed60de52c88",
   "metadata": {},
   "outputs": [
    {
     "data": {
      "text/plain": [
       "1"
      ]
     },
     "execution_count": 7,
     "metadata": {},
     "output_type": "execute_result"
    }
   ],
   "source": [
    "a.root.left.value"
   ]
  },
  {
   "cell_type": "code",
   "execution_count": 8,
   "id": "a46745d9-f5fd-4b54-9e36-0f23e84fc3f8",
   "metadata": {},
   "outputs": [
    {
     "data": {
      "text/plain": [
       "3"
      ]
     },
     "execution_count": 8,
     "metadata": {},
     "output_type": "execute_result"
    }
   ],
   "source": [
    "a.root.right.value"
   ]
  },
  {
   "cell_type": "code",
   "execution_count": 9,
   "id": "cffff79b-f209-4072-a39f-61b1f3edd539",
   "metadata": {},
   "outputs": [],
   "source": [
    "t = BinarySearchTree()\n",
    "list = [48, 77, 82, 21, 50, 27, 18]\n",
    "for i in list :\n",
    "    t.insert(i)"
   ]
  },
  {
   "attachments": {
    "f3be44e4-3b4a-48b2-b4eb-ff56d29bcdf7.jpg": {
     "image/jpeg": "[encoded data removed]"
    }
   },
   "cell_type": "markdown",
   "id": "29c762da-cdd4-4d9a-a594-fb188097a4b7",
   "metadata": {},
   "source": [
    "![bsc.jpg](attachment:f3be44e4-3b4a-48b2-b4eb-ff56d29bcdf7.jpg)"
   ]
  },
  {
   "cell_type": "code",
   "execution_count": 10,
   "id": "8651a79a-4c5a-4f13-b081-cec978a92312",
   "metadata": {},
   "outputs": [
    {
     "data": {
      "text/plain": [
       "True"
      ]
     },
     "execution_count": 10,
     "metadata": {},
     "output_type": "execute_result"
    }
   ],
   "source": [
    "t.contains(27)"
   ]
  },
  {
   "cell_type": "code",
   "execution_count": 11,
   "id": "54fb14d8-78b8-4413-87b3-a752b251c8f1",
   "metadata": {},
   "outputs": [
    {
     "data": {
      "text/plain": [
       "False"
      ]
     },
     "execution_count": 11,
     "metadata": {},
     "output_type": "execute_result"
    }
   ],
   "source": [
    "t.contains(5)"
   ]
  },
  {
   "cell_type": "code",
   "execution_count": 12,
   "id": "1f16b035-b413-4219-bdbe-2f03f8f3a1a5",
   "metadata": {},
   "outputs": [
    {
     "data": {
      "text/plain": [
       "True"
      ]
     },
     "execution_count": 12,
     "metadata": {},
     "output_type": "execute_result"
    }
   ],
   "source": [
    "t.contains(82)"
   ]
  },
  {
   "cell_type": "code",
   "execution_count": 13,
   "id": "cc33324a-3a65-4b70-b1b1-ba6f80d96103",
   "metadata": {},
   "outputs": [
    {
     "name": "stdout",
     "output_type": "stream",
     "text": [
      "True\n",
      "True\n",
      "True\n",
      "True\n",
      "True\n",
      "True\n",
      "True\n"
     ]
    }
   ],
   "source": [
    "for i in list :\n",
    "    print(t.contains(i))"
   ]
  }
 ],
 "metadata": {
  "kernelspec": {
   "display_name": "Python 3 (ipykernel)",
   "language": "python",
   "name": "python3"
  },
  "language_info": {
   "codemirror_mode": {
    "name": "ipython",
    "version": 3
   },
   "file_extension": ".py",
   "mimetype": "text/x-python",
   "name": "python",
   "nbconvert_exporter": "python",
   "pygments_lexer": "ipython3",
   "version": "3.11.7"
  }
 },
 "nbformat": 4,
 "nbformat_minor": 5
}
