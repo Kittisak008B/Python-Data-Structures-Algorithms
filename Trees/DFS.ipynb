{
 "cells": [
  {
   "cell_type": "code",
   "execution_count": 1,
   "id": "ca403c18-7d4f-4ddb-a5c2-05c5a96f82e8",
   "metadata": {},
   "outputs": [],
   "source": [
    "# depth first search\n",
    "class Node :\n",
    "    def __init__(self,value) :\n",
    "        self.value = value\n",
    "        self.left = None\n",
    "        self.right = None\n",
    "class BinarySearchTree :\n",
    "    def __init__(self) :\n",
    "        self.root = None\n",
    "    def insert(self, value):\n",
    "        new_node = Node(value)\n",
    "        if self.root == None :\n",
    "            self.root = new_node\n",
    "            return True\n",
    "        temp = self.root\n",
    "        while (True) :\n",
    "            if new_node.value == temp.value :\n",
    "                return False\n",
    "            if new_node.value < temp.value :\n",
    "                if temp.left is None :\n",
    "                    temp.left = new_node\n",
    "                    return True\n",
    "                temp = temp.left\n",
    "            else :\n",
    "                if temp.right is None :\n",
    "                    temp.right = new_node\n",
    "                    return True\n",
    "                temp = temp.right\n",
    "    def contains(self, value) :\n",
    "        temp = self.root \n",
    "        while temp is not None :\n",
    "            if value < temp.value :\n",
    "                temp = temp.left\n",
    "            elif value > temp.value :\n",
    "                temp = temp.right\n",
    "            else :\n",
    "                return True\n",
    "        return False\n",
    "\n",
    "    def dfs_pre_order(self):\n",
    "        results = []\n",
    "        def traverse(current_node) :\n",
    "            results.append(current_node.value)\n",
    "            if current_node.left is not None :\n",
    "                traverse(current_node.left)\n",
    "            if current_node.right is not None :\n",
    "                traverse(current_node.right)\n",
    "        traverse(self.root)\n",
    "        return results\n",
    "    def dfs_post_order(self):\n",
    "        results = []\n",
    "        def traverse(current_node) :\n",
    "            if current_node.left is not None :\n",
    "                traverse(current_node.left)\n",
    "            if current_node.right is not None :\n",
    "                traverse(current_node.right)\n",
    "            results.append(current_node.value)\n",
    "        traverse(self.root)\n",
    "        return results\n",
    "    def dfs_in_order(self):\n",
    "        results = []\n",
    "        def traverse(current_node) :\n",
    "            if current_node.left is not None :\n",
    "                traverse(current_node.left)\n",
    "            results.append(current_node.value)\n",
    "            if current_node.right is not None :\n",
    "                traverse(current_node.right)\n",
    "        traverse(self.root)\n",
    "        return results "
   ]
  },
  {
   "cell_type": "code",
   "execution_count": 2,
   "id": "304a31a1-8120-4de9-a005-de627af05291",
   "metadata": {},
   "outputs": [
    {
     "data": {
      "text/plain": [
       "True"
      ]
     },
     "execution_count": 2,
     "metadata": {},
     "output_type": "execute_result"
    }
   ],
   "source": [
    "t = BinarySearchTree()\n",
    "t.insert(49)\n",
    "t.insert(23)\n",
    "t.insert(77)\n",
    "t.insert(15)\n",
    "t.insert(28)\n",
    "t.insert(55)\n",
    "t.insert(88)\n",
    "#        49\n",
    "#      /    \\\n",
    "#    23     77\n",
    "#   / \\    /  \\\n",
    "# 15  28  55  88"
   ]
  },
  {
   "cell_type": "code",
   "execution_count": 3,
   "id": "9fa6b872-8ac8-4ef4-976d-f28c7f2cd042",
   "metadata": {},
   "outputs": [
    {
     "data": {
      "text/plain": [
       "[49, 23, 15, 28, 77, 55, 88]"
      ]
     },
     "execution_count": 3,
     "metadata": {},
     "output_type": "execute_result"
    }
   ],
   "source": [
    "t.dfs_pre_order()"
   ]
  },
  {
   "cell_type": "code",
   "execution_count": 4,
   "id": "71cbfae3-a660-49ed-b2a3-28f9d94c9c83",
   "metadata": {},
   "outputs": [
    {
     "data": {
      "text/plain": [
       "[15, 28, 23, 55, 88, 77, 49]"
      ]
     },
     "execution_count": 4,
     "metadata": {},
     "output_type": "execute_result"
    }
   ],
   "source": [
    "t.dfs_post_order()"
   ]
  },
  {
   "cell_type": "code",
   "execution_count": 5,
   "id": "d3623f3c-2dd5-4996-9407-dae3878f82e7",
   "metadata": {},
   "outputs": [
    {
     "data": {
      "text/plain": [
       "[15, 23, 28, 49, 55, 77, 88]"
      ]
     },
     "execution_count": 5,
     "metadata": {},
     "output_type": "execute_result"
    }
   ],
   "source": [
    "t.dfs_in_order()"
   ]
  }
 ],
 "metadata": {
  "kernelspec": {
   "display_name": "Python 3 (ipykernel)",
   "language": "python",
   "name": "python3"
  },
  "language_info": {
   "codemirror_mode": {
    "name": "ipython",
    "version": 3
   },
   "file_extension": ".py",
   "mimetype": "text/x-python",
   "name": "python",
   "nbconvert_exporter": "python",
   "pygments_lexer": "ipython3",
   "version": "3.11.7"
  }
 },
 "nbformat": 4,
 "nbformat_minor": 5
}
