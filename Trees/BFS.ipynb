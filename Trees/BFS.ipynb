{
 "cells": [
  {
   "cell_type": "code",
   "execution_count": 1,
   "id": "2c68701d-3492-4a2c-8d88-a8befdb6c809",
   "metadata": {},
   "outputs": [],
   "source": [
    "# Breadth first search\n",
    "class Node :\n",
    "    def __init__(self,value) :\n",
    "        self.value = value\n",
    "        self.left = None\n",
    "        self.right = None\n",
    "class BinarySearchTree :\n",
    "    def __init__(self) :\n",
    "        self.root = None\n",
    "    def insert(self, value):\n",
    "        new_node = Node(value)\n",
    "        if self.root == None :\n",
    "            self.root = new_node\n",
    "            return True\n",
    "        temp = self.root\n",
    "        while (True) :\n",
    "            if new_node.value == temp.value :\n",
    "                return False\n",
    "            if new_node.value < temp.value :\n",
    "                if temp.left is None :\n",
    "                    temp.left = new_node\n",
    "                    return True\n",
    "                temp = temp.left\n",
    "            else :\n",
    "                if temp.right is None :\n",
    "                    temp.right = new_node\n",
    "                    return True\n",
    "                temp = temp.right\n",
    "    def contains(self, value) :\n",
    "        temp = self.root \n",
    "        while temp is not None :\n",
    "            if value < temp.value :\n",
    "                temp = temp.left\n",
    "            elif value > temp.value :\n",
    "                temp = temp.right\n",
    "            else :\n",
    "                return True\n",
    "        return False\n",
    "\n",
    "    def BFS(self) :\n",
    "        current_node = self.root\n",
    "        queue = []\n",
    "        results = []\n",
    "        queue.append(current_node)\n",
    "        while len(queue) > 0 :\n",
    "            current_node = queue.pop(0)\n",
    "            results.append(current_node.value)\n",
    "            if current_node.left is not None :\n",
    "                queue.append(current_node.left)\n",
    "            if current_node.right is not None :\n",
    "                queue.append(current_node.right)\n",
    "        return results\n",
    "        "
   ]
  },
  {
   "cell_type": "code",
   "execution_count": 2,
   "id": "7322a41f-e8c9-47bd-b69e-7546336b2e65",
   "metadata": {},
   "outputs": [],
   "source": [
    "t = BinarySearchTree()"
   ]
  },
  {
   "cell_type": "code",
   "execution_count": 3,
   "id": "23f92026-022c-441e-8b28-e27379cc2ba4",
   "metadata": {},
   "outputs": [
    {
     "data": {
      "text/plain": [
       "True"
      ]
     },
     "execution_count": 3,
     "metadata": {},
     "output_type": "execute_result"
    }
   ],
   "source": [
    "t.insert(49)\n",
    "t.insert(23)\n",
    "t.insert(80)\n",
    "t.insert(20)\n",
    "t.insert(27)\n",
    "t.insert(55)\n",
    "t.insert(83)"
   ]
  },
  {
   "cell_type": "code",
   "execution_count": 4,
   "id": "d0d5c5f7-246c-402a-a3fc-535b5abcffcc",
   "metadata": {},
   "outputs": [
    {
     "data": {
      "text/plain": [
       "[49, 23, 80, 20, 27, 55, 83]"
      ]
     },
     "execution_count": 4,
     "metadata": {},
     "output_type": "execute_result"
    }
   ],
   "source": [
    "t.BFS()"
   ]
  },
  {
   "cell_type": "code",
   "execution_count": null,
   "id": "a307cd8e-0d5c-4ffd-b7ff-84589e8bea58",
   "metadata": {},
   "outputs": [],
   "source": []
  }
 ],
 "metadata": {
  "kernelspec": {
   "display_name": "Python 3 (ipykernel)",
   "language": "python",
   "name": "python3"
  },
  "language_info": {
   "codemirror_mode": {
    "name": "ipython",
    "version": 3
   },
   "file_extension": ".py",
   "mimetype": "text/x-python",
   "name": "python",
   "nbconvert_exporter": "python",
   "pygments_lexer": "ipython3",
   "version": "3.11.7"
  }
 },
 "nbformat": 4,
 "nbformat_minor": 5
}
