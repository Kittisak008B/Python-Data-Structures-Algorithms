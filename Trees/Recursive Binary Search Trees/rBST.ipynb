{
 "cells": [
  {
   "cell_type": "code",
   "execution_count": 1,
   "id": "a523e7d0-ff10-4545-b162-4e711bf23922",
   "metadata": {},
   "outputs": [],
   "source": [
    "# recursive binary search trees\n",
    "class Node :\n",
    "    def __init__(self,value) :\n",
    "        self.value = value\n",
    "        self.left = None\n",
    "        self.right = None\n",
    "class BinarySearchTree :\n",
    "    def __init__(self) :\n",
    "        self.root = None\n",
    "    def insert(self, value):\n",
    "        new_node = Node(value)\n",
    "        if self.root == None :\n",
    "            self.root = new_node\n",
    "            return True\n",
    "        temp = self.root\n",
    "        while (True) :\n",
    "            if new_node.value == temp.value :\n",
    "                return False\n",
    "            if new_node.value < temp.value :\n",
    "                if temp.left is None :\n",
    "                    temp.left = new_node\n",
    "                    return True\n",
    "                temp = temp.left\n",
    "            else :\n",
    "                if temp.right is None :\n",
    "                    temp.right = new_node\n",
    "                    return True\n",
    "                temp = temp.right\n",
    "\n",
    "    def __r_contains(self, current_node, value):\n",
    "        if current_node == None :\n",
    "            return False\n",
    "        if value == current_node.value :\n",
    "            return True\n",
    "        if value < current_node.value :\n",
    "            return self.__r_contains(current_node.left, value)\n",
    "        if value > current_node.value :\n",
    "            return self.__r_contains(current_node.right, value)\n",
    "    def r_contain(self , value ) :\n",
    "        return self.__r_contains(self.root, value)\n",
    "        \n",
    "    def __r_insert(self, current_node, value) :\n",
    "        if current_node == None :\n",
    "            return Node(value)\n",
    "        if value < current_node.value :\n",
    "            current_node.left = self.__r_insert(current_node.left, value)\n",
    "        if value > current_node.value :\n",
    "            current_node.right = self.__r_insert(current_node.right, value)\n",
    "        return current_node\n",
    "    def r_insert(self, value) :\n",
    "        if self.root == None :\n",
    "            self.root = Node(value)\n",
    "        self.__r_insert(self.root, value)\n",
    "\n",
    "    def min_value(self, current_node):\n",
    "        while current_node.left is not None :\n",
    "            current_node = current_node.left\n",
    "        return current_node.value\n",
    "    def __delete_node(self, current_node, value) :\n",
    "        if current_node == None :\n",
    "            return None\n",
    "        if value < current_node.value :\n",
    "            current_node.left = self.__delete_node(current_node.left, value)\n",
    "        elif value > current_node.value :\n",
    "            current_node.right = self.__delete_node(current_node.right, value)\n",
    "        else :\n",
    "            if current_node.left == None and current_node.right == None :\n",
    "                return None\n",
    "            elif current_node.left == None :\n",
    "                current_node = current_node.right\n",
    "            elif current_node.right == None :\n",
    "                current_node = current_node.left\n",
    "            else :\n",
    "                sub_tree_min = self.min_value(current_node.right)\n",
    "                current_node.value = sub_tree_min\n",
    "                current_node.right = self.__delete_node(current_node.right, sub_tree_min)\n",
    "        return current_node\n",
    "    def delete_node(self, value) :\n",
    "        self.__delete_node(self.root , value)"
   ]
  },
  {
   "cell_type": "code",
   "execution_count": 2,
   "id": "0fcb88e4-b969-4bcb-96f7-4a7b20034bf4",
   "metadata": {},
   "outputs": [
    {
     "data": {
      "text/plain": [
       "True"
      ]
     },
     "execution_count": 2,
     "metadata": {},
     "output_type": "execute_result"
    }
   ],
   "source": [
    "t = BinarySearchTree()\n",
    "t.insert(49)\n",
    "t.insert(23)\n",
    "t.insert(80)\n",
    "t.insert(20)\n",
    "t.insert(27)\n",
    "t.insert(55)\n",
    "t.insert(83)\n",
    "#     49\n",
    "#    /  \\\n",
    "#   23   80\n",
    "#  / \\   / \\\n",
    "# 20 27 55 83"
   ]
  },
  {
   "cell_type": "code",
   "execution_count": 3,
   "id": "ea6e4075-0b2f-4220-8886-d3f7f034ccb6",
   "metadata": {},
   "outputs": [
    {
     "data": {
      "text/plain": [
       "20"
      ]
     },
     "execution_count": 3,
     "metadata": {},
     "output_type": "execute_result"
    }
   ],
   "source": [
    "t.root.left.left.value"
   ]
  },
  {
   "cell_type": "code",
   "execution_count": 4,
   "id": "3b0f815a-2048-456d-aa9c-29290d12082d",
   "metadata": {},
   "outputs": [
    {
     "data": {
      "text/plain": [
       "True"
      ]
     },
     "execution_count": 4,
     "metadata": {},
     "output_type": "execute_result"
    }
   ],
   "source": [
    "t.r_contain(27)"
   ]
  },
  {
   "cell_type": "code",
   "execution_count": 5,
   "id": "efa8484c-636e-4daf-bbd1-05175b6f83ed",
   "metadata": {},
   "outputs": [
    {
     "data": {
      "text/plain": [
       "False"
      ]
     },
     "execution_count": 5,
     "metadata": {},
     "output_type": "execute_result"
    }
   ],
   "source": [
    "t.r_contain(10)"
   ]
  },
  {
   "cell_type": "code",
   "execution_count": 6,
   "id": "0f50f0ee-837f-4236-9838-097e5013be0a",
   "metadata": {},
   "outputs": [
    {
     "data": {
      "text/plain": [
       "20"
      ]
     },
     "execution_count": 6,
     "metadata": {},
     "output_type": "execute_result"
    }
   ],
   "source": [
    "t.min_value(t.root)"
   ]
  },
  {
   "cell_type": "code",
   "execution_count": 7,
   "id": "5aa90391-6772-4e07-9bba-7978a3281a81",
   "metadata": {},
   "outputs": [
    {
     "data": {
      "text/plain": [
       "55"
      ]
     },
     "execution_count": 7,
     "metadata": {},
     "output_type": "execute_result"
    }
   ],
   "source": [
    "t.min_value(t.root.right)"
   ]
  },
  {
   "cell_type": "code",
   "execution_count": 8,
   "id": "f765231f-57c7-4146-81e2-07d406c649ef",
   "metadata": {},
   "outputs": [],
   "source": [
    "tree = BinarySearchTree()\n",
    "tree.r_insert(2)\n",
    "tree.r_insert(1)\n",
    "tree.r_insert(3)\n",
    "#       2\n",
    "#      / \\\n",
    "#     1   3"
   ]
  },
  {
   "cell_type": "code",
   "execution_count": 9,
   "id": "e2a0aad4-c899-4617-8fef-dc9a72bb60ad",
   "metadata": {},
   "outputs": [
    {
     "data": {
      "text/plain": [
       "2"
      ]
     },
     "execution_count": 9,
     "metadata": {},
     "output_type": "execute_result"
    }
   ],
   "source": [
    "tree.root.value"
   ]
  },
  {
   "cell_type": "code",
   "execution_count": 10,
   "id": "5785a621-36e0-4304-b7fd-9c6f9c24c0fb",
   "metadata": {},
   "outputs": [
    {
     "data": {
      "text/plain": [
       "1"
      ]
     },
     "execution_count": 10,
     "metadata": {},
     "output_type": "execute_result"
    }
   ],
   "source": [
    "tree.root.left.value"
   ]
  },
  {
   "cell_type": "code",
   "execution_count": 11,
   "id": "7b70d73b-d5a5-4b2c-a3ff-15bac882b9a5",
   "metadata": {},
   "outputs": [
    {
     "data": {
      "text/plain": [
       "3"
      ]
     },
     "execution_count": 11,
     "metadata": {},
     "output_type": "execute_result"
    }
   ],
   "source": [
    "tree.root.right.value"
   ]
  },
  {
   "cell_type": "code",
   "execution_count": 12,
   "id": "5074aa26-3f92-4a5f-9a45-5e075527765d",
   "metadata": {},
   "outputs": [],
   "source": [
    "tree.delete_node(2)\n",
    "#       3\n",
    "#      / \\\n",
    "#     1   None"
   ]
  },
  {
   "cell_type": "code",
   "execution_count": 13,
   "id": "264f476b-0452-4a2d-9ff9-448adcdf9d2d",
   "metadata": {},
   "outputs": [
    {
     "data": {
      "text/plain": [
       "3"
      ]
     },
     "execution_count": 13,
     "metadata": {},
     "output_type": "execute_result"
    }
   ],
   "source": [
    "tree.root.value"
   ]
  },
  {
   "cell_type": "code",
   "execution_count": 14,
   "id": "c226198f-240d-4855-bf82-d66889fe2866",
   "metadata": {},
   "outputs": [
    {
     "data": {
      "text/plain": [
       "1"
      ]
     },
     "execution_count": 14,
     "metadata": {},
     "output_type": "execute_result"
    }
   ],
   "source": [
    "tree.root.left.value"
   ]
  },
  {
   "cell_type": "code",
   "execution_count": 15,
   "id": "4dfd5b3b-72ed-4241-8fc9-8813847453c6",
   "metadata": {},
   "outputs": [],
   "source": [
    "tree.root.right"
   ]
  }
 ],
 "metadata": {
  "kernelspec": {
   "display_name": "Python 3 (ipykernel)",
   "language": "python",
   "name": "python3"
  },
  "language_info": {
   "codemirror_mode": {
    "name": "ipython",
    "version": 3
   },
   "file_extension": ".py",
   "mimetype": "text/x-python",
   "name": "python",
   "nbconvert_exporter": "python",
   "pygments_lexer": "ipython3",
   "version": "3.11.7"
  }
 },
 "nbformat": 4,
 "nbformat_minor": 5
}
